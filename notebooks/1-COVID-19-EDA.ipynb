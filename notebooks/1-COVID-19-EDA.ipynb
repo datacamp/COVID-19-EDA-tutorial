{
 "cells": [
  {
   "cell_type": "markdown",
   "metadata": {},
   "source": [
    "# COVID-19 Exploratory Data Analysis"
   ]
  },
  {
   "cell_type": "markdown",
   "metadata": {},
   "source": [
    "## Context and introductory notes"
   ]
  },
  {
   "cell_type": "markdown",
   "metadata": {},
   "source": [
    "### Reasons to give this tutorial and reasons to not"
   ]
  },
  {
   "cell_type": "markdown",
   "metadata": {},
   "source": [
    "This tutorial's purpose is to introduce people to the [2019 Novel Coronavirus COVID-19 (2019-nCoV) Data Repository by Johns Hopkins CSSE](https://github.com/CSSEGISandData/COVID-19) and how to explore it using some foundational packages in the Scientific Python Data Science stack.\n",
    "\n",
    "It is not intended to encourage people to create & publish their own data visualizations. In fact, as [this thoughtful essay](https://medium.com/nightingale/ten-considerations-before-you-create-another-chart-about-covid-19-27d3bd691be8) makes clear, in many cases it is irresponsible to publish amateur visualizations, which at best will dilute those that experts with domain expertise are publishing. We won't be making any predictions or doing any statistical modelling.\n"
   ]
  },
  {
   "cell_type": "markdown",
   "metadata": {},
   "source": [
    "Firstly, why are we looking at the dataset from Johns Hopkins (JHU)? I recently asked twitter, which has wonderful epidemiology and data communities, \"Which COVID-19 datasets are best to look at and why?\"\n",
    "\n",
    "<blockquote class=\"twitter-tweet\"><p lang=\"en\" dir=\"ltr\">data folk: which <a href=\"https://twitter.com/hashtag/Covid_19?src=hash&amp;ref_src=twsrc%5Etfw\">#Covid_19</a> datasets should we be looking at (and directing people towards) and why?</p>&mdash; Hugo Bowne-Anderson (@hugobowne) <a href=\"https://twitter.com/hugobowne/status/1247013362988240896?ref_src=twsrc%5Etfw\">April 6, 2020</a></blockquote> <script async src=\"https://platform.twitter.com/widgets.js\" charset=\"utf-8\"></script>\n",
    "\n",
    "There were many thoughtful responses and I encourage you to look through them. [Ellie Murray](https://scholar.harvard.edu/eleanormurray/home), an epidemiologist and Assistant Professor at the Boston University School of Public Health, responded\n",
    "\n",
    "<blockquote class=\"twitter-tweet\"><p lang=\"en\" dir=\"ltr\">What purposes are you directing people towards data for? All the data we have are incomplete, so the goal of the data should inform which data to use</p>&mdash; Ellie Murray (@EpiEllie) <a href=\"https://twitter.com/EpiEllie/status/1247321239292706817?ref_src=twsrc%5Etfw\">April 7, 2020</a></blockquote> <script async src=\"https://platform.twitter.com/widgets.js\" charset=\"utf-8\"></script>\n",
    "\n",
    "to which I replied\n",
    "\n",
    "<blockquote class=\"twitter-tweet\"><p lang=\"en\" dir=\"ltr\">Great question. I&#39;m a data science educator interested in directing people more generally to the best resources &amp; ways to think about them so that they have a stronger sense of what&#39;s actually happening in such a confusing time, e.g. my tweet below 1/ <a href=\"https://t.co/6lGPbDAZL5\">https://t.co/6lGPbDAZL5</a></p>&mdash; Hugo Bowne-Anderson (@hugobowne) <a href=\"https://twitter.com/hugobowne/status/1247322357863034880?ref_src=twsrc%5Etfw\">April 7, 2020</a></blockquote> <script async src=\"https://platform.twitter.com/widgets.js\" charset=\"utf-8\"></script>\n",
    "\n",
    "This is the tweet I was referencing\n",
    "\n",
    "<blockquote class=\"twitter-tweet\"><p lang=\"en\" dir=\"ltr\">even how to just think about the data generating process -- e.g. number of reported cases a function of number of tests, willingness of govts to reports, in addition to number of actual cases. there&#39;s also censoring, lag, &amp; much more. cc <a href=\"https://twitter.com/ericmjl?ref_src=twsrc%5Etfw\">@ericmjl</a> <a href=\"https://twitter.com/jsbois?ref_src=twsrc%5Etfw\">@jsbois</a></p>&mdash; Hugo Bowne-Anderson (@hugobowne) <a href=\"https://twitter.com/hugobowne/status/1247321297987620864?ref_src=twsrc%5Etfw\">April 7, 2020</a></blockquote> <script async src=\"https://platform.twitter.com/widgets.js\" charset=\"utf-8\"></script>\n",
    "\n",
    "Ellie replied\n",
    "\n",
    "\n",
    "<blockquote class=\"twitter-tweet\"><p lang=\"en\" dir=\"ltr\">In that case, I agree with the other responses: the Johns Hopkins data is probably the best general purpose dataset for education.</p>&mdash; Ellie Murray (@EpiEllie) <a href=\"https://twitter.com/EpiEllie/status/1247322941039300608?ref_src=twsrc%5Etfw\">April 7, 2020</a></blockquote> <script async src=\"https://platform.twitter.com/widgets.js\" charset=\"utf-8\"></script>\n",
    "\n",
    "Once again, check out out the thread for further details, but the main reasons cited for using the JHU data are\n",
    "\n",
    "- JHU is already a trusted and respected institution,\n",
    "- They cite many sources, which are themselves reputable,\n",
    "- The data is updated daily, and\n",
    "- It is provided in an easily digestible format (.csv in a github repository).\n",
    "\n",
    "I also want to flag that, after all the responses that came in, I thought twice about whether to conduct this tutorial. The main reasons are summarized by Ellie's tweets here:\n",
    "\n",
    "<blockquote class=\"twitter-tweet\"><p lang=\"en\" dir=\"ltr\">I definitely understand the desire of data-minded people to dig into learning about the covid data, but misunderstandings can add to the chaos &amp; complicate pandemic response. 1/2</p>&mdash; Ellie Murray (@EpiEllie) <a href=\"https://twitter.com/EpiEllie/status/1247324458479693824?ref_src=twsrc%5Etfw\">April 7, 2020</a></blockquote> <script async src=\"https://platform.twitter.com/widgets.js\" charset=\"utf-8\"></script>\n",
    "\n",
    "<blockquote class=\"twitter-tweet\"><p lang=\"en\" dir=\"ltr\">My advice to learners is to use data from a historic epidemic—maybe swine flu. Then you also have the chance to see how well your predictions actually match with the epidemic trajectory, and there are more likely many resources to help understand the data. 2/2</p>&mdash; Ellie Murray (@EpiEllie) <a href=\"https://twitter.com/EpiEllie/status/1247324778014412811?ref_src=twsrc%5Etfw\">April 7, 2020</a></blockquote> <script async src=\"https://platform.twitter.com/widgets.js\" charset=\"utf-8\"></script>\n",
    "\n",
    "I love the idea of looking at historical datasets and hope to do this in the future. The reason I've decided to continue with this tutorial is that I feel that, as long as we take our results with **very, very many grains of salt**, it will help us \n",
    "\n",
    "- to interrogate the world as it currently is, \n",
    "- to understand many of the biases in modern data collection, data analysis, and data reporting,\n",
    "- to develop more of a shared language to discuss it, even as non-experts, and\n",
    "- to learn about some of the contemporary tooling and data-analytic concepts that help us to work with data.\n",
    "\n",
    "That all having been said, please do listen to the domain experts, the epidemiologists."
   ]
  },
  {
   "cell_type": "markdown",
   "metadata": {},
   "source": [
    "***\n",
    "### Biases in data collection, data analysis, and data reporting\n",
    "\n",
    "What type of biases am I talking about? A key example to keep in mind is when interpreting plots, numbers, and reports of the *known* number of cases of COVID-19, **know** that this is a function of many things that are *not* the total number of cases, such as **the number of available tests**. The limiting case is when there are zero tests, there are zero known cases; then if many tests become available, there'll seem to be a huge spike in number of cases, even if there hasn't been such a spike. \n",
    "\n",
    "Nate Silver's thread here gives a concrete example in Washington State:\n",
    "\n",
    "<blockquote class=\"twitter-tweet\"><p lang=\"en\" dir=\"ltr\">THREAD:<br><br>Washington state is a good example of the importance of accounting for the number of tests when reporting COVID-19 case counts. Remember I mentioned a couple of days ago how their number of cases in WA had begun to stabilize? Well, guess what happened...</p>&mdash; Nate Silver (@NateSilver538) <a href=\"https://twitter.com/NateSilver538/status/1241113755016138755?ref_src=twsrc%5Etfw\">March 20, 2020</a></blockquote> <script async src=\"https://platform.twitter.com/widgets.js\" charset=\"utf-8\"></script>\n",
    "\n",
    "and he also has an interesting article linked to in this tweet here:\n",
    "\n",
    "<blockquote class=\"twitter-tweet\"><p lang=\"en\" dir=\"ltr\">Hey y&#39;all. I have a deep dive today on how the number of *known coronavirus cases* isn&#39;t really a good way to know what&#39;s happening with the disease. Unless you know something about testing, anyway. Hope you&#39;ll check it out.<a href=\"https://t.co/VK7rCgBNMc\">https://t.co/VK7rCgBNMc</a></p>&mdash; Nate Silver (@NateSilver538) <a href=\"https://twitter.com/NateSilver538/status/1246487881297920001?ref_src=twsrc%5Etfw\">April 4, 2020</a></blockquote> <script async src=\"https://platform.twitter.com/widgets.js\" charset=\"utf-8\"></script>\n",
    "\n",
    "The number of reported known cases is **also a function of any given government's willingness (or lack thereof) to report their actual findings**. We can think both of these in relation to NNT's conception of [Wittgenstein's ruler](https://twitter.com/DellAnnaLuca/status/1244555177807380480):\n",
    "\n",
    "> “Wittgenstein’s ruler: Unless you have confidence in the ruler’s reliability, if you use a ruler to measure a table you may also be using the table to measure the ruler.”\n",
    "\n",
    "\n"
   ]
  },
  {
   "cell_type": "markdown",
   "metadata": {},
   "source": [
    "***\n",
    "We'll be visualizing number of reported confirmed cases, deaths, and recoveries around the world. Note that there are interesting ways to report these numbers that aren't quite visualization per se. Ryan Struyck of CNN, for example, has been leveraging the affordances of tweets and twitter do display such data compellingly:\n",
    "\n",
    "<blockquote class=\"twitter-tweet\"><p lang=\"en\" dir=\"ltr\">Reported US coronavirus cases<br><br>3/17: 6,135<br>3/18: 8,760<br>3/19: 13,229<br>3/20: 18,763<br>3/21: 25,740<br>3/22: 34,276<br>3/23: 42,663<br>3/24: 52,976<br>3/25: 65,273<br>3/26: 82,135<br>3/27: 101,295<br>3/28: 121,176<br>3/29: 139,773<br>3/30: 160,377<br>3/31: 185,469<br>4/1: 211,740<br>4/2: 245,070<br>4/3: 277,953<br>Now: 311,544</p>&mdash; Ryan Struyk (@ryanstruyk) <a href=\"https://twitter.com/ryanstruyk/status/1246624017278263296?ref_src=twsrc%5Etfw\">April 5, 2020</a></blockquote> <script async src=\"https://platform.twitter.com/widgets.js\" charset=\"utf-8\"></script>"
   ]
  },
  {
   "cell_type": "markdown",
   "metadata": {},
   "source": [
    "Raymond Hettinger, one of my Pythonic heroes, tweeted in a similar vein:\n",
    "\n",
    "<blockquote class=\"twitter-tweet\"><p lang=\"en\" dir=\"ltr\">US covid-19 case count growth:<br><br>100 to 1,000 in 8 days<br>1,000 to 10,000 in 9 days<br>10,000 to 100,000 in 9 days<br><br>What is your best guess for 1,000,000?</p>&mdash; Raymond Hettinger (@raymondh) <a href=\"https://twitter.com/raymondh/status/1243643686602211328?ref_src=twsrc%5Etfw\">March 27, 2020</a></blockquote> <script async src=\"https://platform.twitter.com/widgets.js\" charset=\"utf-8\"></script>\n",
    "\n",
    "From Raymond's tweet, it becomes clear why we will want to plot the growth curves with a logarithmic y-axis: so that the data is not all packed into a small region of the visualization. \n",
    "\n",
    "**ESSENTIAL POINT THAT WE'LL ALSO MAKE LATER:** A logarithm scale is good for visualization **BUT** remember, in the thoughtful words of [Justin Bois](http://bois.caltech.edu/), \"on the ground, in the hospitals, we live with the linear scale. The flattening of the US curve, for example is more evident on the log scale, but the growth is still rapid on a linear scale, which is what we feel.\""
   ]
  },
  {
   "cell_type": "markdown",
   "metadata": {},
   "source": [
    "I also want to remind people that exploratory data analysis and data visualization is about discovering things that exist and that are happening in the world. In this case, we are plotting data of **people** who are sick and dying **right now** so throughout the tutorial I'd encourage us all to have the patience and respect required in such a time."
   ]
  },
  {
   "cell_type": "markdown",
   "metadata": {},
   "source": [
    "Before starting to look at the data, let's look at [the repository containing it](https://github.com/CSSEGISandData/COVID-19) to get a feel for the context."
   ]
  },
  {
   "cell_type": "markdown",
   "metadata": {},
   "source": [
    "**Summary:** We've\n",
    "- discussed reasons to give this tutorial and provided warnings about doing so\n",
    "- discussed biases in data collection, data analyses, and data reporting,\n",
    "- had a look at the github repository containing the JHU COVID-19 dataset."
   ]
  },
  {
   "cell_type": "markdown",
   "metadata": {},
   "source": [
    "## Exploratory data analysis and visualization using Python"
   ]
  },
  {
   "cell_type": "markdown",
   "metadata": {},
   "source": [
    "### Imports and data"
   ]
  },
  {
   "cell_type": "markdown",
   "metadata": {},
   "source": [
    "Let's import the necessary packages from the SciPy stack and get [the data](https://github.com/CSSEGISandData/COVID-19)."
   ]
  },
  {
   "cell_type": "code",
   "execution_count": null,
   "metadata": {},
   "outputs": [],
   "source": [
    "# Import packages\n",
    "import numpy as np\n",
    "import pandas as pd\n",
    "import matplotlib.pyplot as plt\n",
    "import seaborn as sns\n",
    "# Set style & figures inline\n",
    "sns.set()\n",
    "%matplotlib inline"
   ]
  },
  {
   "cell_type": "code",
   "execution_count": null,
   "metadata": {},
   "outputs": [],
   "source": [
    "# Data urls\n",
    "base_url = ___\n",
    "confirmed_cases_data_url = base_url + 'time_series_covid19_confirmed_global.csv'\n",
    "death_cases_data_url = base_url + 'time_series_covid19_deaths_global.csv'\n",
    "recovery_cases_data_url = base_url+ 'time_series_covid19_recovered_global.csv'\n",
    "# Import datasets as pandas dataframes\n",
    "raw_data_confirmed = ___\n",
    "raw_data_deaths = ___\n",
    "raw_data_recovered = ___"
   ]
  },
  {
   "cell_type": "markdown",
   "metadata": {},
   "source": [
    "### Confirmed cases of COVID-19"
   ]
  },
  {
   "cell_type": "markdown",
   "metadata": {},
   "source": [
    "We'll first check out the confirmed cases data by looking at the head of the dataframe:\n"
   ]
  },
  {
   "cell_type": "code",
   "execution_count": null,
   "metadata": {},
   "outputs": [],
   "source": [
    "___"
   ]
  },
  {
   "cell_type": "markdown",
   "metadata": {},
   "source": [
    "**Discuss:** What do you see here?\n",
    "We can also see a lot about the data by using the `.info()` and `.describe()` dataframe methods:"
   ]
  },
  {
   "cell_type": "code",
   "execution_count": null,
   "metadata": {},
   "outputs": [],
   "source": [
    "___"
   ]
  },
  {
   "cell_type": "code",
   "execution_count": null,
   "metadata": {},
   "outputs": [],
   "source": [
    "___"
   ]
  },
  {
   "cell_type": "markdown",
   "metadata": {},
   "source": [
    "**Discuss:** What do the above tell us?"
   ]
  },
  {
   "cell_type": "markdown",
   "metadata": {},
   "source": [
    "### Number of confirmed cases by country"
   ]
  },
  {
   "cell_type": "markdown",
   "metadata": {},
   "source": [
    "Look at the head (or tail) of our dataframe again and notice that each row is the data for a particular *province* or *state* of a given country:"
   ]
  },
  {
   "cell_type": "code",
   "execution_count": null,
   "metadata": {},
   "outputs": [],
   "source": [
    "___"
   ]
  },
  {
   "cell_type": "markdown",
   "metadata": {},
   "source": [
    "We want the numbers for each country, though. So the way to think about this is, for each country, we want to take all the rows (*regions/provinces*) that correspond to that country and add up the numbers for each. To put this in data-analytic-speak, we want to **group by** the country column and sum up all the values for the other columns.\n",
    "\n",
    "This is a common pattern in data analysis that we humans have been using for centuries. Interestingly, it was only formalized in 2011 by Hadley Wickham in his seminal paper [The Split-Apply-Combine Strategy for Data\n",
    "Analysis](https://www.jstatsoft.org/article/view/v040i01). The pattern we're discussing is now called Split-Apply-Combine and, in the case at hand, we\n",
    "\n",
    "- Split the data into new datasets for each country,\n",
    "- Apply the function of \"sum\" for each new dataset (that is, we add/sum up the values for each column) to sum over territories/provinces/states for each country, and\n",
    "- Combine these datasets into a new dataframe.\n",
    "\n",
    "The `pandas` API has the `groupby` method, which allows us to do this.\n",
    "\n",
    "**Side note:** For more on split-apply-combine and `pandas` check out [my post here](https://www.datacamp.com/community/tutorials/pandas-split-apply-combine-groupby)."
   ]
  },
  {
   "cell_type": "code",
   "execution_count": null,
   "metadata": {},
   "outputs": [],
   "source": [
    "# Group by region (also drop 'Lat', 'Long' as it doesn't make sense to sum them here)\n",
    "confirmed_country = ___\n",
    "confirmed_country.head()"
   ]
  },
  {
   "cell_type": "markdown",
   "metadata": {},
   "source": [
    "So each row of our new dataframe `confirmed_country` is a time series of the number of confirmed cases for each country. Cool! \n",
    "Now a dataframe has an associated object called an Index, which is essentially a set of unique indentifiers for each row. Let's check out the index of `confirmed_country`:"
   ]
  },
  {
   "cell_type": "code",
   "execution_count": null,
   "metadata": {},
   "outputs": [],
   "source": [
    "___"
   ]
  },
  {
   "cell_type": "markdown",
   "metadata": {},
   "source": [
    "It's indexed by `Country/Region`. That's all good **but** if we index by date **instead**, it will allow us to produce some visualizations almost immediately. This is a nice aspect of the `pandas` API: you can make basic visualizations with it and, if your index consists of DateTimes, it knows that you're plotting time series and plays nicely with them.\n",
    "To make the index the set of dates, notice that the column names are the dates. To turn column names into the index, we essentially want to make the columns the rows (and the rows the columns). This corresponds to taking the transpose of the dataframe:"
   ]
  },
  {
   "cell_type": "code",
   "execution_count": null,
   "metadata": {},
   "outputs": [],
   "source": [
    "confirmed_country = ___\n",
    "confirmed_country.head()"
   ]
  },
  {
   "cell_type": "markdown",
   "metadata": {},
   "source": [
    "Let's have a look at our index to see whether it actually consists of DateTimes:"
   ]
  },
  {
   "cell_type": "code",
   "execution_count": null,
   "metadata": {},
   "outputs": [],
   "source": [
    "___"
   ]
  },
  {
   "cell_type": "markdown",
   "metadata": {},
   "source": [
    "Note that `dtype='object'`which means that these are strings, not DateTimes. We can use `pandas` to turn it into a DateTimeIndex:"
   ]
  },
  {
   "cell_type": "code",
   "execution_count": null,
   "metadata": {},
   "outputs": [],
   "source": [
    "# Set index as DateTimeIndex\n",
    "datetime_index = ___\n",
    "___\n",
    "# Check out index\n",
    "___"
   ]
  },
  {
   "cell_type": "markdown",
   "metadata": {},
   "source": [
    "Now we have a DateTimeIndex and Countries for columns, we can use the dataframe plotting method to visualize the time series of confirmed number of cases by country. As there are so many coutries, we'll plot a subset of them:"
   ]
  },
  {
   "cell_type": "markdown",
   "metadata": {},
   "source": [
    "### Plotting confirmed cases by country"
   ]
  },
  {
   "cell_type": "code",
   "execution_count": null,
   "metadata": {},
   "outputs": [],
   "source": [
    "# Plot time series of several countries of interest\n",
    "poi = ['China', 'US', 'Italy', 'France', 'Spain', 'Australia']\n",
    "___"
   ]
  },
  {
   "cell_type": "markdown",
   "metadata": {},
   "source": [
    "Let's label our axes and give the figure a title. We'll also thin the line and add points for the data so that the sampling is evident in our plots:"
   ]
  },
  {
   "cell_type": "code",
   "execution_count": null,
   "metadata": {
    "scrolled": false
   },
   "outputs": [],
   "source": [
    "# Plot time series of several countries of interest\n",
    "___\n",
    "plt.xlabel('Date', fontsize=20);\n",
    "plt.ylabel('Reported Confirmed cases count', fontsize=20);\n",
    "plt.title('Reported Confirmed Cases Time Series', fontsize=20);"
   ]
  },
  {
   "cell_type": "markdown",
   "metadata": {},
   "source": [
    "Let's do this again but make the y-axis logarithmic:"
   ]
  },
  {
   "cell_type": "code",
   "execution_count": null,
   "metadata": {},
   "outputs": [],
   "source": [
    "# Plot time series of several countries of interest\n",
    "confirmed_country[poi].plot(figsize=(20,10), linewidth=2, marker='.', fontsize=20, ___)\n",
    "___\n",
    "___\n",
    "___"
   ]
  },
  {
   "cell_type": "markdown",
   "metadata": {},
   "source": [
    "**Discuss:** Why do we plot with a log y-axis? How do we interpret the log plot?\n",
    "**Key points:** \n",
    "- If a variable takes on values over several orders of magnitude (e.g. in the 10s, 100s, and 1000s), we use a log axes so that the data is not all crammed into a small region of the visualization.\n",
    "- If a curve is approximately linear on a log axis, then its approximately exponential growth and the gradient/slope of the line tells us about the exponent.\n",
    "\n",
    "\n",
    "**ESSENTIAL POINT:** A logarithm scale is good for visualization **BUT** remember, in the thoughtful words of [Justin Bois](http://bois.caltech.edu/), \"on the ground, in the hospitals, we live with the linear scale. The flattening of the US curve, for example is more evident on the log scale, but the growth is still rapid on a linear scale, which is what we feel.\""
   ]
  },
  {
   "cell_type": "markdown",
   "metadata": {},
   "source": [
    "**Summary:** We've \n",
    "- looked at the JHU data repository and imported the data,\n",
    "- looked at the dataset containing the number of reported confirmed cases for each region,\n",
    "- wrangled the data to look at the number of reported confirmed cases by country,\n",
    "- plotted the number of reported confirmed cases by country (both log and semi-log),\n",
    "- discussed why log plots are important for visualization and that we need to remember that we, as humans, families, communities, and society, experience COVID-19 linearly."
   ]
  },
  {
   "cell_type": "markdown",
   "metadata": {
    "collapsed": true
   },
   "source": [
    "### Number of reported deaths"
   ]
  },
  {
   "cell_type": "markdown",
   "metadata": {},
   "source": [
    "As we did above for `raw_data_confirmed`, let's check out the head and the info of the `raw_data_deaths` dataframe:"
   ]
  },
  {
   "cell_type": "code",
   "execution_count": null,
   "metadata": {},
   "outputs": [],
   "source": [
    "___"
   ]
  },
  {
   "cell_type": "code",
   "execution_count": null,
   "metadata": {},
   "outputs": [],
   "source": [
    "___"
   ]
  },
  {
   "cell_type": "markdown",
   "metadata": {},
   "source": [
    "It seems to be structured similarly to `raw_data_confirmed`. I have checked it out in detail and can confirm that it is! This is good data design as it means that users like can explore, munge, and visualize it in a fashion analogous to the above. Can you remember what we did? We\n",
    "\n",
    "- Split-Apply-Combined it (and dropped 'Lat'/'Long'),\n",
    "- Transposed it,\n",
    "- Made the index a DateTimeIndex, and\n",
    "- Visualized it (linear and semi-log).\n",
    "\n",
    "Let's now do the first three steps here for `raw_data_deaths` and see how we go:\n",
    "\n"
   ]
  },
  {
   "cell_type": "markdown",
   "metadata": {},
   "source": [
    "### Number of reported deaths by country"
   ]
  },
  {
   "cell_type": "code",
   "execution_count": null,
   "metadata": {},
   "outputs": [],
   "source": [
    "# Split-Apply-Combine\n",
    "deaths_country = ___\n",
    "\n",
    "# Transpose\n",
    "deaths_country = ___\n",
    "\n",
    "# Set index as DateTimeIndex\n",
    "datetime_index = ___\n",
    "___\n",
    "\n",
    "# Check out head\n",
    "___"
   ]
  },
  {
   "cell_type": "code",
   "execution_count": null,
   "metadata": {},
   "outputs": [],
   "source": [
    "# Check out the index\n",
    "___"
   ]
  },
  {
   "cell_type": "markdown",
   "metadata": {},
   "source": [
    "### Plotting number of reported deaths by country "
   ]
  },
  {
   "cell_type": "markdown",
   "metadata": {},
   "source": [
    "Let's now visualize the number of reported deaths:"
   ]
  },
  {
   "cell_type": "code",
   "execution_count": null,
   "metadata": {},
   "outputs": [],
   "source": [
    "# Plot time series of several countries of interest\n",
    "___\n",
    "plt.xlabel('Date', fontsize=20);\n",
    "plt.ylabel('Number of Reported Deaths', fontsize=20);\n",
    "plt.title('Reported Deaths Time Series', fontsize=20);"
   ]
  },
  {
   "cell_type": "markdown",
   "metadata": {},
   "source": [
    "Now on a semi-log plot:"
   ]
  },
  {
   "cell_type": "code",
   "execution_count": null,
   "metadata": {},
   "outputs": [],
   "source": [
    "# Plot time series of several countries of interest\n",
    "___\n",
    "___\n",
    "___\n",
    "___"
   ]
  },
  {
   "cell_type": "markdown",
   "metadata": {},
   "source": [
    "### Aligning growth curves to start with day of number of known deaths ≥ 25"
   ]
  },
  {
   "cell_type": "markdown",
   "metadata": {},
   "source": [
    "To compare what's happening in different countries, we can align each country's growth curves to all start on the day when the number of known deaths ≥ 25, such as reported in the first figure [here](https://www.nytimes.com/interactive/2020/03/21/upshot/coronavirus-deaths-by-country.html).\n",
    "To achieve this, first off, let's set set all values less than 25 to NaN so that the associated data points don't get plotted at all when we visualize the data:"
   ]
  },
  {
   "cell_type": "code",
   "execution_count": null,
   "metadata": {},
   "outputs": [],
   "source": [
    "# Loop over columns & set values < 25 to None\n",
    "for col in deaths_country.columns:\n",
    "    ___\n",
    "\n",
    "# Check out tail\n",
    "___"
   ]
  },
  {
   "cell_type": "markdown",
   "metadata": {},
   "source": [
    "Now let's plot as above to make sure we see what we think we should see:"
   ]
  },
  {
   "cell_type": "code",
   "execution_count": null,
   "metadata": {},
   "outputs": [],
   "source": [
    "# Plot time series of several countries of interest\n",
    "poi = ['China', 'US', 'Italy', 'France', 'Australia']\n",
    "___\n",
    "___\n",
    "___\n",
    "___"
   ]
  },
  {
   "cell_type": "markdown",
   "metadata": {},
   "source": [
    "The countries that have seen less than 25 total deaths will have columns of all NaNs now so let's drop these and then see how many columns we have left:"
   ]
  },
  {
   "cell_type": "code",
   "execution_count": null,
   "metadata": {},
   "outputs": [],
   "source": [
    "# Drop columns that are all NaNs (i.e. countries that haven't yet reached 25 deaths)\n",
    "___\n",
    "deaths_country.info()"
   ]
  },
  {
   "cell_type": "markdown",
   "metadata": {},
   "source": [
    "As we're going to align the countries from the day they first had at least 25 deaths, we won't need the DateTimeIndex. In fact, we won't need the date at all. So we can \n",
    "- Reset the Index, which will give us an ordinal index (which turns the date into a regular column) and\n",
    "- Drop the date column (which will be called 'index) after the reset."
   ]
  },
  {
   "cell_type": "code",
   "execution_count": null,
   "metadata": {},
   "outputs": [],
   "source": [
    "# sort index, drop date column\n",
    "deaths_country_drop = ___\n",
    "deaths_country_drop.head()"
   ]
  },
  {
   "cell_type": "markdown",
   "metadata": {},
   "source": [
    "Now it's time to shift each column so that the first entry is the first NaN value that it contains! To do this, we can use the `shift()` method on each column. How much do we shift each column, though? The magnitude of the shift is given by how many NaNs there are at the start of the column, which we can retrieve using the `first_valid_index()` method on the column **but** we want to shift **up**, which is negative in direction (by convention and perhaps intuition). SO let's do it."
   ]
  },
  {
   "cell_type": "code",
   "execution_count": null,
   "metadata": {},
   "outputs": [],
   "source": [
    "# shift\n",
    "for col in deaths_country_drop.columns:\n",
    "    ___\n",
    "# check out head\n",
    "___"
   ]
  },
  {
   "cell_type": "markdown",
   "metadata": {},
   "source": [
    "**Side note:** instead of looping over columns, we could have applied a lambda function to the columns of the dataframe, as follows:"
   ]
  },
  {
   "cell_type": "code",
   "execution_count": null,
   "metadata": {},
   "outputs": [],
   "source": [
    "# shift using lambda function\n",
    "#deaths_country = deaths_country.apply(lambda x: x.shift(-x.first_valid_index()))"
   ]
  },
  {
   "cell_type": "markdown",
   "metadata": {},
   "source": [
    "Now we get to plot our time series, first with linear axes, then semi-log:"
   ]
  },
  {
   "cell_type": "code",
   "execution_count": null,
   "metadata": {},
   "outputs": [],
   "source": [
    "# Plot time series \n",
    "___\n",
    "plt.xlabel('Days', fontsize=20);\n",
    "plt.ylabel('Number of Reported Deaths', fontsize=20);\n",
    "plt.title('Total reported coronavirus deaths for places with at least 25 deaths', fontsize=20);"
   ]
  },
  {
   "cell_type": "code",
   "execution_count": null,
   "metadata": {},
   "outputs": [],
   "source": [
    "# Plot semi log time series \n",
    "___\n",
    "___\n",
    "___\n",
    "___"
   ]
  },
  {
   "cell_type": "markdown",
   "metadata": {},
   "source": [
    "**Summary:** We've \n",
    "- looked at the dataset containing the number of reported deaths for each region,\n",
    "- wrangled the data to look at the number of reported deaths by country,\n",
    "- plotted the number of reported deaths by country (both log and semi-log),\n",
    "- aligned growth curves to start with day of number of known deaths ≥ 25."
   ]
  },
  {
   "cell_type": "markdown",
   "metadata": {},
   "source": [
    "### Plotting number of recovered people"
   ]
  },
  {
   "cell_type": "markdown",
   "metadata": {},
   "source": [
    "The third dataset in the Hopkins repository is the number of recovered. We want to do similar data wrangling as in the two cases above so we *could* copy and paste our code again *but*, if you're writing the same code three times, it's likely time to write a function."
   ]
  },
  {
   "cell_type": "code",
   "execution_count": null,
   "metadata": {},
   "outputs": [],
   "source": [
    "# Function for grouping countries by region\n",
    "def group_by_country(raw_data):\n",
    "    \"\"\"Returns data for countries indexed by date\"\"\"\n",
    "    # Group by\n",
    "    data = ___\n",
    "    # Transpose\n",
    "    data = ___\n",
    "    # Set index as DateTimeIndex\n",
    "    datetime_index = ___\n",
    "    data.set_index(datetime_index, inplace=True)\n",
    "    return data"
   ]
  },
  {
   "cell_type": "code",
   "execution_count": null,
   "metadata": {},
   "outputs": [],
   "source": [
    "# Function to align growth curves\n",
    "def align_curves(data, min_val):\n",
    "    \"\"\"Align growth curves  to start on the day when the number of known deaths = min_val\"\"\"\n",
    "    # Loop over columns & set values < min_val to None\n",
    "    for col in data.columns:\n",
    "        ___\n",
    "    # Drop columns with all NaNs\n",
    "    ___\n",
    "    # Reset index, drop date\n",
    "    data = \n",
    "    # Shift each column to begin with first valid index\n",
    "    for col in data.columns:\n",
    "        data[col] = ___\n",
    "    return data"
   ]
  },
  {
   "cell_type": "code",
   "execution_count": null,
   "metadata": {},
   "outputs": [],
   "source": [
    "# Function to plot time series\n",
    "def plot_time_series(df, plot_title, x_label, y_label, logy=False):\n",
    "    \"\"\"Plot time series and make looks a bit nice\"\"\"\n",
    "    ax = df.plot(figsize=(20,10), linewidth=2, marker='.', fontsize=20, logy=logy)\n",
    "    ax.legend(ncol=3, loc='lower right')\n",
    "    plt.xlabel(x_label, fontsize=20);\n",
    "    plt.ylabel(y_label, fontsize=20);\n",
    "    plt.title(plot_title, fontsize=20);"
   ]
  },
  {
   "cell_type": "markdown",
   "metadata": {},
   "source": [
    "For a sanity check, let's see these functions at work on the 'number of deaths' data:"
   ]
  },
  {
   "cell_type": "code",
   "execution_count": null,
   "metadata": {},
   "outputs": [],
   "source": [
    "___\n",
    "___\n",
    "___"
   ]
  },
  {
   "cell_type": "markdown",
   "metadata": {},
   "source": [
    "Now let's check use our functions to group, wrangle, and plot the recovered patients data:"
   ]
  },
  {
   "cell_type": "code",
   "execution_count": null,
   "metadata": {},
   "outputs": [],
   "source": [
    "# group by country and check out tail\n",
    "recovered_country = ___\n",
    "___"
   ]
  },
  {
   "cell_type": "code",
   "execution_count": null,
   "metadata": {},
   "outputs": [],
   "source": [
    "# align curves and check out head\n",
    "recovered_country_drop = ___\n",
    "___"
   ]
  },
  {
   "cell_type": "markdown",
   "metadata": {},
   "source": [
    "Plot time series:"
   ]
  },
  {
   "cell_type": "code",
   "execution_count": null,
   "metadata": {},
   "outputs": [],
   "source": [
    "___"
   ]
  },
  {
   "cell_type": "code",
   "execution_count": null,
   "metadata": {},
   "outputs": [],
   "source": [
    "___"
   ]
  },
  {
   "cell_type": "markdown",
   "metadata": {},
   "source": [
    "**Summary:** We've \n",
    "- looked at the dataset containing the number of reported recoveries for each region,\n",
    "- written function for grouping, wrangling, and plotting the data,\n",
    "- grouped, wrangled, and plotted the data for the number of reported recoveries."
   ]
  },
  {
   "cell_type": "markdown",
   "metadata": {},
   "source": [
    "## Interactive plots with altair"
   ]
  },
  {
   "cell_type": "markdown",
   "metadata": {},
   "source": [
    "We're now going to build some interactive data visualizations. I was recently inspired by [this one in the NYTimes](https://www.nytimes.com/interactive/2020/03/21/upshot/coronavirus-deaths-by-country.html), a chart of confirmed number of deaths by country for places with at least 25 deaths, similar to ours above, but with informative hover tools. [This one](https://www.nytimes.com/interactive/2020/us/coronavirus-us-cases.html) is also interesting."
   ]
  },
  {
   "cell_type": "markdown",
   "metadata": {},
   "source": [
    "We're going to use a tool called [Altair](https://altair-viz.github.io/). I like Altair for several reasons, including precisely what they state on their website:\n",
    "\n",
    "> With Altair, you can spend more time understanding your data and its meaning. Altair’s API is simple, friendly and consistent and built on top of the powerful [Vega-Lite](https://vega.github.io/vega-lite/) visualization grammar. This elegant simplicity produces beautiful and effective visualizations with a minimal amount of code.\n",
    "\n",
    "Before jumping into Altair, let's reshape our `deaths_country` dataset. Notice that it's currently in **wide data format**, with a column for each country and a row for each \"day\" (where day 1 is the first day with over 25 confirmed deaths). This worked with the `pandas` plotting API for reasons discussed above."
   ]
  },
  {
   "cell_type": "code",
   "execution_count": null,
   "metadata": {},
   "outputs": [],
   "source": [
    "# Look at head\n",
    "___"
   ]
  },
  {
   "cell_type": "markdown",
   "metadata": {},
   "source": [
    "For Altair, we'll want to convert the data into **long data format**. What this will do essentially have a row for each country/day pair so our columns will be 'Day', 'Country', and number of 'Deaths'. We do this using the dataframe method `.melt()` as follows:"
   ]
  },
  {
   "cell_type": "code",
   "execution_count": null,
   "metadata": {},
   "outputs": [],
   "source": [
    "# create long data for deaths\n",
    "deaths_long = ___\n",
    "deaths_long.head()"
   ]
  },
  {
   "cell_type": "markdown",
   "metadata": {},
   "source": [
    "We'll see the power of having long data when using Altair. Such transformations have been performed for a long time, however it wasn't until 2014 that Hadley Wickham formalized the language in his paper [Tidy Data](https://www.researchgate.net/publication/215990669_Tidy_data). Note that Wickham prefers to avoid the terms long and wide because, in his words, 'they are imprecise'. I generally agree but for our purposes here of giving the flavour, they suffice.\n",
    "\n",
    "Now having transformed our data, let's import Altair and get a sense of its API."
   ]
  },
  {
   "cell_type": "code",
   "execution_count": null,
   "metadata": {},
   "outputs": [],
   "source": [
    "import altair as alt\n",
    "\n",
    "# altair plot \n",
    "___\n",
    "\n",
    "\n"
   ]
  },
  {
   "cell_type": "markdown",
   "metadata": {},
   "source": [
    "It is nice to be able to build such an informative and elegant chart in four lines of code (which is also elegant). And, looking at the simplicity of the code we just wrote, we can see why it was great to have long data: a column for each variable allowed us to explicitly and easily tell Altair what we wanted on each axis and what we wanted for the colour.\n",
    "\n",
    "As the [Altair documentation (which is great, by the way!) states](https://altair-viz.github.io/getting_started/overview.html),\n",
    "\n",
    "> The key idea is that you are declaring links between *data columns* and *visual encoding channels*, such as the x-axis, y-axis, color, etc. The rest of the plot details are handled automatically. Building on this declarative plotting idea, a surprising range of simple to sophisticated plots and visualizations can be created using a relatively concise grammar."
   ]
  },
  {
   "cell_type": "markdown",
   "metadata": {},
   "source": [
    "We can now customize the code to thicken the line width, to alter the opacity, and to make the chart larger:"
   ]
  },
  {
   "cell_type": "code",
   "execution_count": null,
   "metadata": {},
   "outputs": [],
   "source": [
    "# altair plot \n",
    "alt.Chart(deaths_long).mark_line(___, ___).encode(\n",
    "    x='Day',\n",
    "    y='Deaths',\n",
    "    color='Country/Region'\n",
    ").___"
   ]
  },
  {
   "cell_type": "markdown",
   "metadata": {},
   "source": [
    "We can also add a log y-axis. To do this, The long-form, we express the types using the long-form `alt.X('Day',...)`, which is, in the words of the [Altair documentation](https://altair-viz.github.io/user_guide/encoding.html)\n",
    "> useful when doing more fine-tuned adjustments to the encoding, such as binning, axis and scale properties, or more.\n",
    "\n",
    "We'll also now add a hover tooltip so that, when we hover our cursor over any point on any of the lines, it will tell us the 'Country', the 'Day', and the number of 'Deaths'."
   ]
  },
  {
   "cell_type": "code",
   "execution_count": null,
   "metadata": {},
   "outputs": [],
   "source": [
    "# altair plot \n",
    "alt.Chart(deaths_long).mark_line(strokeWidth=4, opacity=0.7).encode(\n",
    "    x=alt.X('Day'),\n",
    "    y=alt.Y('Deaths', scale=alt.Scale(type='log')),\n",
    "    color='Country/Region',\n",
    "    ___\n",
    ").properties(\n",
    "    width=800,\n",
    "    height=650\n",
    ")\n"
   ]
  },
  {
   "cell_type": "markdown",
   "metadata": {},
   "source": [
    "It's great that we could add that useful hover tooltip with one line of code `tooltip=['Country/Region', 'Day','Deaths']`, particularly as it adds such information rich interaction to the chart.\n",
    "One useful aspect of the NYTimes chart was that, when you hovered over a particular curve, it made it stand out against the other. We're going to do something similar here: in the resulting chart, when you click on a curve, the others turn grey.\n",
    "\n",
    "**Note:** When first attempting to build this chart, I discovered [here](https://github.com/altair-viz/altair/issues/1552) that \"multiple conditional values in one encoding are not allowed by the Vega-Lite spec,\" which is what Altair uses. For this reason, we build the chart, then an overlay, and then combine them."
   ]
  },
  {
   "cell_type": "code",
   "execution_count": null,
   "metadata": {},
   "outputs": [],
   "source": [
    "# Selection tool\n",
    "selection = ___\n",
    "# Color change when clicked\n",
    "color = ___\n",
    "\n",
    "\n",
    "# Base altair plot \n",
    "base = alt.Chart(deaths_long).mark_line(strokeWidth=4, opacity=0.7).encode(\n",
    "    x=alt.X('Day'),\n",
    "    y=alt.Y('Deaths', scale=alt.Scale(type='log')),\n",
    "    color='Country/Region',\n",
    "    tooltip=['Country/Region', 'Day','Deaths']\n",
    ").properties(\n",
    "    width=800,\n",
    "    height=650\n",
    ")\n",
    "\n",
    "# Chart\n",
    "chart = ___\n",
    "\n",
    "# Overlay\n",
    "overlay = base.encode(\n",
    "    color='Country/Region',\n",
    "  opacity=alt.value(0.5),\n",
    "  tooltip=['Country/Region:N', 'Name:N']\n",
    ").transform_filter(\n",
    "  selection\n",
    ")\n",
    "\n",
    "# Sum em up!\n",
    "___"
   ]
  },
  {
   "cell_type": "markdown",
   "metadata": {},
   "source": [
    "It's not super easy to line up the legend with the curves on the chart so let's put the labels on the chart itself. Thanks to [Jake Vanderplas](http://vanderplas.com/) for this suggestion, and for the code."
   ]
  },
  {
   "cell_type": "code",
   "execution_count": null,
   "metadata": {},
   "outputs": [],
   "source": [
    "# drop NaNs\n",
    "deaths_long = deaths_long.dropna()\n",
    "\n",
    "# Selection tool\n",
    "selection = alt.selection_single(fields=['Country/Region'])\n",
    "# Color change when clicked\n",
    "color = alt.condition(selection,\n",
    "                    alt.Color('Country/Region:N'),\n",
    "                    alt.value('lightgray'))\n",
    "\n",
    "\n",
    "# Base altair plot \n",
    "base = alt.Chart(deaths_long).mark_line(strokeWidth=4, opacity=0.7).encode(\n",
    "    x=alt.X('Day'),\n",
    "    y=alt.Y('Deaths', scale=alt.Scale(type='log')),\n",
    "    color=alt.Color('Country/Region', legend=None),\n",
    ").properties(\n",
    "    width=800,\n",
    "    height=650\n",
    ")\n",
    "\n",
    "# Chart\n",
    "chart = base.encode(\n",
    "  color=alt.condition(selection, 'Country/Region:N', alt.value('lightgray'))\n",
    ").add_selection(\n",
    "  selection\n",
    ")\n",
    "\n",
    "# Overlay\n",
    "overlay = base.encode(\n",
    "  color='Country/Region',\n",
    "  opacity=alt.value(0.5),\n",
    "  tooltip=['Country/Region:N', 'Name:N']\n",
    ").transform_filter(\n",
    "  selection\n",
    ")\n",
    "\n",
    "# Text labels\n",
    "text = base.mark_text(\n",
    "    align='left',\n",
    "    dx=5,\n",
    "    size=10\n",
    ").encode(\n",
    "    x=alt.X('Day', aggregate='max',  axis=alt.Axis(title='Day')),\n",
    "    y=alt.Y('Deaths', aggregate={'argmax': 'Day'}, axis=alt.Axis(title='Reported Deaths')),\n",
    "    text='Country/Region',  \n",
    ").transform_filter(\n",
    "    selection\n",
    ")\n",
    "\n",
    "# Sum em up!\n",
    "chart + overlay + text"
   ]
  },
  {
   "cell_type": "markdown",
   "metadata": {},
   "source": [
    "**Summary:** We've \n",
    "- melted the data into long format,\n",
    "- used Altair to make interactive plots of increasing richness,\n",
    "- admired the elegance & simplicity of the Altair API and the visualizations produced."
   ]
  },
  {
   "cell_type": "markdown",
   "metadata": {},
   "source": [
    "That's all for the time being. I'd be interested to see how you all can make these charts more information rich and comprehensible. I encourage you to raise ideas in issues on the issue tracker in [this github repository](https://github.com/hugobowne/COVID-19-EDA-tutorial) and then to make pull requests. A couple of ideas are\n",
    "- Adding lines to the above chart that show curves for deaths doubling each X days, as in the [first chart here](https://www.nytimes.com/interactive/2020/03/21/upshot/coronavirus-deaths-by-country.html),\n",
    "- Figuring out a way to make the chart less crowded with names by perhaps only showing 10 of them."
   ]
  }
 ],
 "metadata": {
  "kernelspec": {
   "display_name": "Python 3",
   "language": "python",
   "name": "python3"
  },
  "language_info": {
   "codemirror_mode": {
    "name": "ipython",
    "version": 3
   },
   "file_extension": ".py",
   "mimetype": "text/x-python",
   "name": "python",
   "nbconvert_exporter": "python",
   "pygments_lexer": "ipython3",
   "version": "3.6.10"
  }
 },
 "nbformat": 4,
 "nbformat_minor": 2
}
